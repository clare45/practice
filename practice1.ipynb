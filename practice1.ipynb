# Clare's practice file

relearning using python in this format rather than just on the desktop
